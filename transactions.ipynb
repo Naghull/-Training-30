{
  "nbformat": 4,
  "nbformat_minor": 0,
  "metadata": {
    "colab": {
      "provenance": []
    },
    "kernelspec": {
      "name": "python3",
      "display_name": "Python 3"
    },
    "language_info": {
      "name": "python"
    }
  },
  "cells": [
    {
      "cell_type": "code",
      "source": [
        "from pyspark.sql import SparkSession\n",
        "from pyspark.sql import functions as F\n",
        "from pyspark.sql.window import Window\n",
        "from datetime import date\n"
      ],
      "metadata": {
        "collapsed": true,
        "id": "s5kfpaux-up_"
      },
      "execution_count": 50,
      "outputs": []
    },
    {
      "cell_type": "code",
      "source": [
        "spark = SparkSession.builder.appName(\"Customer Transactions Analysis\").getOrCreate()\n"
      ],
      "metadata": {
        "id": "7ZhhfEyQHZkD"
      },
      "execution_count": 67,
      "outputs": []
    },
    {
      "cell_type": "code",
      "source": [
        "data = [\n",
        "    (1,date(2024,2,1),1250.0),\n",
        "    (1,date(2024,2,3),2540.0),\n",
        "    (1,date(2024,2,6),830.0),\n",
        "    (1,date(2024,2,12),1280.0),\n",
        "    (2,date(2024,2,2),4200.0),\n",
        "    (2,date(2024,2,5),1250.0),\n",
        "    (2,date(2024,2,7),2206.0),\n",
        "    (2,date(2024,2,9),1350.0),\n",
        "    (3,date(2024,2,1),3200.0),\n",
        "    (3,date(2024,2,4),1800.0),\n",
        "    (3,date(2024,2,6),540.0),\n",
        "    (3,date(2024,2,10),1500.0),\n",
        "    (5,date(2024,2,12),1150.0),\n",
        "    (6,date(2024,2,1),1000.0),\n",
        "    (6,date(2024,2,3),500.0),\n",
        "    (6,date(2024,2,6),2200.0),\n",
        "    (6,date(2024,2,8),1800.0),\n",
        "    (7,date(2024,2,1),3800.0),\n",
        "    (7,date(2024,2,4),2750.0),\n",
        "    (7,date(2024,2,7),1850.0),\n",
        "    (9,date(2024,2,7),3000.0),\n",
        "    (9,date(2024,2,9),2200.0),\n",
        "    (10,date(2024,2,2),3300.0),\n",
        "    (10,date(2024,2,5),800.0),\n",
        "    (10,date(2024,2,8),1850.0),\n",
        "    (10,date(2024,2,11),2100.0)\n",
        "]\n"
      ],
      "metadata": {
        "id": "lKvknwKfGpCz"
      },
      "execution_count": 68,
      "outputs": []
    },
    {
      "cell_type": "code",
      "source": [
        "schema = [\"customer_id\", \"transaction_dates\", \"amount_spent\"]\n",
        "transactions = spark.createDataFrame(data, schema=schema)\n",
        "\n"
      ],
      "metadata": {
        "id": "qsSZv1RzHfK4"
      },
      "execution_count": 71,
      "outputs": []
    },
    {
      "cell_type": "code",
      "source": [
        "cumulative_window = Window.partitionBy(\"customer_id\").orderBy(\"transaction_dates\").rowsBetween(Window.unboundedPreceding, Window.currentRow)"
      ],
      "metadata": {
        "id": "HNRfsLOnHhRQ"
      },
      "execution_count": 72,
      "outputs": []
    },
    {
      "cell_type": "code",
      "source": [
        "transactions = transactions.withColumn(\"cumulative_amount\",F.sum(\"amount_spent\").over(cumulative_window))"
      ],
      "metadata": {
        "id": "Ch16nEGkHi3q"
      },
      "execution_count": 73,
      "outputs": []
    },
    {
      "cell_type": "code",
      "source": [
        "\n",
        "transactions = transactions.withColumn(\"transaction_date_days\",F.unix_timestamp(F.col(\"transaction_dates\"), \"yyyy-MM-dd\") / (24 * 60 * 60))\n"
      ],
      "metadata": {
        "id": "l8BjAjKPHmck"
      },
      "execution_count": 74,
      "outputs": []
    },
    {
      "cell_type": "code",
      "source": [
        "rolling_window = Window.partitionBy(\"customer_id\").orderBy(\"transaction_date_days\").rangeBetween(-6, 0)\n"
      ],
      "metadata": {
        "id": "g-LDhPvsHoN2"
      },
      "execution_count": 75,
      "outputs": []
    },
    {
      "cell_type": "code",
      "source": [
        "transactions = transactions.withColumn(\"rolling_avg_amount\",F.avg(\"amount_spent\").over(rolling_window))"
      ],
      "metadata": {
        "id": "u9J4-p-kHqAo"
      },
      "execution_count": 76,
      "outputs": []
    },
    {
      "cell_type": "code",
      "source": [
        "transactions.show()\n",
        "spark.stop()"
      ],
      "metadata": {
        "colab": {
          "base_uri": "https://localhost:8080/"
        },
        "id": "DYX8zqYIHsYD",
        "outputId": "9230eb3e-2203-4e9e-a3f2-9d395b5022e7"
      },
      "execution_count": 77,
      "outputs": [
        {
          "output_type": "stream",
          "name": "stdout",
          "text": [
            "+-----------+-----------------+------------+-----------------+---------------------+------------------+\n",
            "|customer_id|transaction_dates|amount_spent|cumulative_amount|transaction_date_days|rolling_avg_amount|\n",
            "+-----------+-----------------+------------+-----------------+---------------------+------------------+\n",
            "|          1|       2024-02-01|      1250.0|           1250.0|              19754.0|            1250.0|\n",
            "|          1|       2024-02-03|      2540.0|           3790.0|              19756.0|            1895.0|\n",
            "|          1|       2024-02-06|       830.0|           4620.0|              19759.0|            1540.0|\n",
            "|          1|       2024-02-12|      1280.0|           5900.0|              19765.0|            1055.0|\n",
            "|          2|       2024-02-02|      4200.0|           4200.0|              19755.0|            4200.0|\n",
            "|          2|       2024-02-05|      1250.0|           5450.0|              19758.0|            2725.0|\n",
            "|          2|       2024-02-07|      2206.0|           7656.0|              19760.0|            2552.0|\n",
            "|          2|       2024-02-09|      1350.0|           9006.0|              19762.0|            1602.0|\n",
            "|          3|       2024-02-01|      3200.0|           3200.0|              19754.0|            3200.0|\n",
            "|          3|       2024-02-04|      1800.0|           5000.0|              19757.0|            2500.0|\n",
            "|          3|       2024-02-06|       540.0|           5540.0|              19759.0|1846.6666666666667|\n",
            "|          3|       2024-02-10|      1500.0|           7040.0|              19763.0|            1280.0|\n",
            "|          5|       2024-02-12|      1150.0|           1150.0|              19765.0|            1150.0|\n",
            "|          6|       2024-02-01|      1000.0|           1000.0|              19754.0|            1000.0|\n",
            "|          6|       2024-02-03|       500.0|           1500.0|              19756.0|             750.0|\n",
            "|          6|       2024-02-06|      2200.0|           3700.0|              19759.0|1233.3333333333333|\n",
            "|          6|       2024-02-08|      1800.0|           5500.0|              19761.0|            1500.0|\n",
            "|          7|       2024-02-01|      3800.0|           3800.0|              19754.0|            3800.0|\n",
            "|          7|       2024-02-04|      2750.0|           6550.0|              19757.0|            3275.0|\n",
            "|          7|       2024-02-07|      1850.0|           8400.0|              19760.0|            2800.0|\n",
            "+-----------+-----------------+------------+-----------------+---------------------+------------------+\n",
            "only showing top 20 rows\n",
            "\n"
          ]
        }
      ]
    },
    {
      "cell_type": "code",
      "source": [],
      "metadata": {
        "id": "NB7P-cfTJMMp"
      },
      "execution_count": null,
      "outputs": []
    }
  ]
}