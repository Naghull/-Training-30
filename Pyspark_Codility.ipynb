{
  "nbformat": 4,
  "nbformat_minor": 0,
  "metadata": {
    "colab": {
      "provenance": []
    },
    "kernelspec": {
      "name": "python3",
      "display_name": "Python 3"
    },
    "language_info": {
      "name": "python"
    }
  },
  "cells": [
    {
      "cell_type": "code",
      "source": [],
      "metadata": {
        "id": "E_yRQIhJnxi6"
      },
      "execution_count": null,
      "outputs": []
    },
    {
      "cell_type": "markdown",
      "source": [],
      "metadata": {
        "id": "--j5FNIJlEqd"
      }
    },
    {
      "cell_type": "code",
      "source": [
        "from pyspark.sql import SparkSession\n",
        "from pyspark.sql.functions import col, avg, sum, count, desc, collect_list, struct, udf\n",
        "from pyspark.sql.types import StringType, DoubleType, StructType, StructField, DateType\n"
      ],
      "metadata": {
        "id": "69rqv8UtnzpC"
      },
      "execution_count": 11,
      "outputs": []
    },
    {
      "cell_type": "code",
      "source": [
        "spark=SparkSession.builder.appName(\"Ecommerce\").getOrCreate()"
      ],
      "metadata": {
        "id": "KiP0wxtbn8Zw"
      },
      "execution_count": 12,
      "outputs": []
    },
    {
      "cell_type": "markdown",
      "source": [],
      "metadata": {
        "id": "vTsQEWlPpMGy"
      }
    },
    {
      "source": [
        "from pyspark.sql import SparkSession, types\n",
        "from pyspark.sql.types import *\n",
        "\n",
        "data=[(\"1\",\"U1\",\"P1\",\"Plastics\",1000.0,\"2023-11-01\"),\n",
        "      (\"2\",\"U1\",\"P3\",\"Plastics\",100.0,\"2023-11-02\"),\n",
        "      (\"3\",\"U1\",\"P3\",\"Plastics\",140.0,\"2023-11-02\"),\n",
        "      (\"4\",\"U1\",\"P4\",\"Plastics\",190.0,\"2023-11-05\"),\n",
        "      (\"5\",\"U1\",\"P5\",\"Plastics\",900.0,\"2023-11-10\"),\n",
        "      (\"6\",\"U2\",\"P6\",\"Clothing\",200.0,\"2023-11-11\"),\n",
        "      (\"7\",\"U2\",\"P7\",\"Clothing\",890.0,\"2023-11-12\"),\n",
        "      (\"8\",\"U3\",\"P8\",\"Stationary\",299.0,\"2023-11-12\"),\n",
        "      (\"9\",\"U3\",\"P9\",\"Stationary\",799.0,\"2023-11-13\"),\n",
        "      (\"10\",\"U3\",\"P10\",\"Stationary\",99.0,\"2023-11-14\"),]\n",
        "\n",
        "\n",
        "schema = StructType([\n",
        "    StructField(\"transaction_id\",StringType(),True),\n",
        "    StructField(\"user_id\",StringType(),True),\n",
        "    StructField(\"product_id\",StringType(),True),\n",
        "    StructField(\"category\",StringType(),True),\n",
        "    StructField(\"amount\",DoubleType(),True),\n",
        "    StructField(\"transaction_date\",StringType(),True)\n",
        "])\n",
        "df=spark.createDataFrame(data,schema)"
      ],
      "cell_type": "code",
      "metadata": {
        "id": "bTmiWeuisgK2"
      },
      "execution_count": 91,
      "outputs": []
    },
    {
      "cell_type": "code",
      "source": [
        "df.show()"
      ],
      "metadata": {
        "colab": {
          "base_uri": "https://localhost:8080/"
        },
        "id": "JolkUpcGshKr",
        "outputId": "fa39b2cf-ab13-4d8f-f136-85250f7c5974"
      },
      "execution_count": 92,
      "outputs": [
        {
          "output_type": "stream",
          "name": "stdout",
          "text": [
            "+--------------+-------+----------+----------+------+----------------+\n",
            "|transaction_id|user_id|product_id|  category|amount|transaction_date|\n",
            "+--------------+-------+----------+----------+------+----------------+\n",
            "|             1|     U1|        P1|  Plastics|1000.0|      2023-11-01|\n",
            "|             2|     U1|        P3|  Plastics| 100.0|      2023-11-02|\n",
            "|             3|     U1|        P3|  Plastics| 140.0|      2023-11-02|\n",
            "|             4|     U1|        P4|  Plastics| 190.0|      2023-11-05|\n",
            "|             5|     U1|        P5|  Plastics| 900.0|      2023-11-10|\n",
            "|             6|     U2|        P6|  Clothing| 200.0|      2023-11-11|\n",
            "|             7|     U2|        P7|  Clothing| 890.0|      2023-11-12|\n",
            "|             8|     U3|        P8|Stationary| 299.0|      2023-11-12|\n",
            "|             9|     U3|        P9|Stationary| 799.0|      2023-11-13|\n",
            "|            10|     U3|       P10|Stationary|  99.0|      2023-11-14|\n",
            "+--------------+-------+----------+----------+------+----------------+\n",
            "\n"
          ]
        }
      ]
    },
    {
      "cell_type": "code",
      "source": [
        "columns = [\"transaction_id\",\"user_id\",\"product_id\",\"category\",\"amount\",\"transaction_date\"]\n",
        "df = spark.createDataFrame(data,columns)"
      ],
      "metadata": {
        "id": "ty95MOtIxRme"
      },
      "execution_count": 93,
      "outputs": []
    },
    {
      "cell_type": "markdown",
      "source": [],
      "metadata": {
        "id": "i2mL6n2d0L8q"
      }
    },
    {
      "cell_type": "code",
      "source": [
        "total_spendings_per_user = df.groupBy(\"user_id\").agg(sum(\"amount\").alias(\"total_spendings_per_user\"))"
      ],
      "metadata": {
        "id": "uV_r-JFIt-g1"
      },
      "execution_count": 111,
      "outputs": []
    },
    {
      "cell_type": "code",
      "source": [
        "avg_transactions_done = df.groupBy(\"user_id\").agg(avg(\"amount\").alias(\"avg_transactions_done\"))"
      ],
      "metadata": {
        "id": "w4v_AtsGu8ur"
      },
      "execution_count": 112,
      "outputs": []
    },
    {
      "cell_type": "code",
      "source": [
        "category_count = df.groupBy(\"user_id\", \"category\").agg(count(\"category\").alias(\"category_count\"))"
      ],
      "metadata": {
        "id": "yhHuUQBovd90"
      },
      "execution_count": 113,
      "outputs": []
    },
    {
      "cell_type": "code",
      "source": [
        "window_spec = Window.partitionBy(\"user_id\").orderBy(desc(\"category_count\"))"
      ],
      "metadata": {
        "id": "mdjNvsq8wAeP"
      },
      "execution_count": 114,
      "outputs": []
    },
    {
      "cell_type": "code",
      "source": [
        "ranked_category = user_category_count.withColumn(\"rank\",rank().over(window_spec))"
      ],
      "metadata": {
        "id": "3dadk71PwbS0"
      },
      "execution_count": 115,
      "outputs": []
    },
    {
      "cell_type": "code",
      "source": [
        "favorite_category = ranked_category.filter(col(\"rank\")==1).select(\"user_id\",\"category\")"
      ],
      "metadata": {
        "id": "oWPKYpAxwgQg"
      },
      "execution_count": 116,
      "outputs": []
    },
    {
      "cell_type": "code",
      "source": [
        "final_result = total_spendings_per_user.join(avg_transaction,on=\"user_id\",how=\"inner\").join(favorite_category,on=\"user_id\",how=\"inner\")"
      ],
      "metadata": {
        "id": "QivmFVJ0wn8b"
      },
      "execution_count": 124,
      "outputs": []
    },
    {
      "cell_type": "code",
      "source": [
        "final_result = final_result.withColumnRenamed(\"category\",\"favorite_category\")"
      ],
      "metadata": {
        "id": "1r65LqHYxB-j"
      },
      "execution_count": 121,
      "outputs": []
    },
    {
      "cell_type": "code",
      "source": [
        "final_result.show()"
      ],
      "metadata": {
        "colab": {
          "base_uri": "https://localhost:8080/"
        },
        "id": "bcL8zV0IxE9_",
        "outputId": "3a992426-d1bb-448d-a7a1-01198f748ed7"
      },
      "execution_count": 122,
      "outputs": [
        {
          "output_type": "stream",
          "name": "stdout",
          "text": [
            "+-------+------------------------+---------------+-----------------+\n",
            "|user_id|total_spendings_per_user|avg_transaction|favorite_category|\n",
            "+-------+------------------------+---------------+-----------------+\n",
            "|     U1|                  2330.0|          466.0|         Plastics|\n",
            "|     U2|                  1090.0|          545.0|         Clothing|\n",
            "|     U3|                  1197.0|          399.0|       Stationary|\n",
            "+-------+------------------------+---------------+-----------------+\n",
            "\n"
          ]
        }
      ]
    },
    {
      "cell_type": "code",
      "source": [],
      "metadata": {
        "id": "DdIyQVyqxHpy"
      },
      "execution_count": null,
      "outputs": []
    }
  ]
}