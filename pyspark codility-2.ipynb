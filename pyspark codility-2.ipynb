{
  "nbformat": 4,
  "nbformat_minor": 0,
  "metadata": {
    "colab": {
      "provenance": []
    },
    "kernelspec": {
      "name": "python3",
      "display_name": "Python 3"
    },
    "language_info": {
      "name": "python"
    }
  },
  "cells": [
    {
      "cell_type": "code",
      "source": [
        "from pyspark.sql import SparkSession\n",
        "from pyspark.sql import functions as F\n",
        "from pyspark.sql.window import Window\n",
        "from datetime import date\n"
      ],
      "metadata": {
        "collapsed": true,
        "id": "s5kfpaux-up_"
      },
      "execution_count": 50,
      "outputs": []
    },
    {
      "cell_type": "code",
      "source": [
        "spark = SparkSession.builder.appName(\"Customer Transactions Analysis\").getOrCreate()\n"
      ],
      "metadata": {
        "id": "7ZhhfEyQHZkD"
      },
      "execution_count": 51,
      "outputs": []
    },
    {
      "cell_type": "code",
      "source": [
        "data = [\n",
        "    (1,date(2024,2,1),1250.0),\n",
        "    (1,date(2024,2,3),2540.0),\n",
        "    (1,date(2024,2,6),830.0),\n",
        "    (1,date(2024,2,12),1280.0),\n",
        "    (2,date(2024,2,2),4200.0),\n",
        "    (2,date(2024,2,5),1250.0),\n",
        "    (2,date(2024,2,7),2206.0),\n",
        "    (2,date(2024,2,9),1350.0)\n",
        "    ]"
      ],
      "metadata": {
        "id": "lKvknwKfGpCz"
      },
      "execution_count": 54,
      "outputs": []
    },
    {
      "cell_type": "code",
      "source": [
        "schema = [\"customer_id\", \"transaction_date\", \"amount\"]transactions = spark.createDataFrame(data, schema=schema)"
      ],
      "metadata": {
        "id": "qsSZv1RzHfK4"
      },
      "execution_count": 55,
      "outputs": []
    },
    {
      "cell_type": "code",
      "source": [
        "cumulative_window = Window.partitionBy(\"customer_id\").orderBy(\"transaction_date\").rowsBetween(Window.unboundedPreceding, Window.currentRow)"
      ],
      "metadata": {
        "id": "HNRfsLOnHhRQ"
      },
      "execution_count": 56,
      "outputs": []
    },
    {
      "cell_type": "code",
      "source": [
        "transactions = transactions.withColumn(\"cumulative_amount\",F.sum(\"amount\").over(cumulative_window))"
      ],
      "metadata": {
        "id": "Ch16nEGkHi3q"
      },
      "execution_count": 57,
      "outputs": []
    },
    {
      "cell_type": "code",
      "source": [
        "\n",
        "transactions = transactions.withColumn(\"transaction_date_days\",F.unix_timestamp(F.col(\"transaction_date\"), \"yyyy-MM-dd\") / (24 * 60 * 60))\n"
      ],
      "metadata": {
        "id": "l8BjAjKPHmck"
      },
      "execution_count": 58,
      "outputs": []
    },
    {
      "cell_type": "code",
      "source": [
        "rolling_window = Window.partitionBy(\"customer_id\").orderBy(\"transaction_date_days\").rangeBetween(-6, 0)\n"
      ],
      "metadata": {
        "id": "g-LDhPvsHoN2"
      },
      "execution_count": 59,
      "outputs": []
    },
    {
      "cell_type": "code",
      "source": [
        "transactions = transactions.withColumn(\"rolling_avg_amount\",F.avg(\"amount\").over(rolling_window))"
      ],
      "metadata": {
        "id": "u9J4-p-kHqAo"
      },
      "execution_count": 61,
      "outputs": []
    },
    {
      "cell_type": "code",
      "source": [
        "transactions.show()\n",
        "spark.stop()"
      ],
      "metadata": {
        "colab": {
          "base_uri": "https://localhost:8080/"
        },
        "id": "DYX8zqYIHsYD",
        "outputId": "16c59153-be51-414b-c8da-84e6e567a352"
      },
      "execution_count": 62,
      "outputs": [
        {
          "output_type": "stream",
          "name": "stdout",
          "text": [
            "+-----------+----------------+------+-----------------+---------------------+------------------+\n",
            "|customer_id|transaction_date|amount|cumulative_amount|transaction_date_days|rolling_avg_amount|\n",
            "+-----------+----------------+------+-----------------+---------------------+------------------+\n",
            "|          1|      2024-02-01|1250.0|           1250.0|              19754.0|            1250.0|\n",
            "|          1|      2024-02-03|2540.0|           3790.0|              19756.0|            1895.0|\n",
            "|          1|      2024-02-06| 830.0|           4620.0|              19759.0|            1540.0|\n",
            "|          1|      2024-02-12|1280.0|           5900.0|              19765.0|            1055.0|\n",
            "|          2|      2024-02-02|4200.0|           4200.0|              19755.0|            4200.0|\n",
            "|          2|      2024-02-05|1250.0|           5450.0|              19758.0|            2725.0|\n",
            "|          2|      2024-02-07|2206.0|           7656.0|              19760.0|            2552.0|\n",
            "|          2|      2024-02-09|1350.0|           9006.0|              19762.0|            1602.0|\n",
            "+-----------+----------------+------+-----------------+---------------------+------------------+\n",
            "\n"
          ]
        }
      ]
    },
    {
      "cell_type": "code",
      "source": [],
      "metadata": {
        "id": "NB7P-cfTJMMp"
      },
      "execution_count": null,
      "outputs": []
    }
  ]
}
